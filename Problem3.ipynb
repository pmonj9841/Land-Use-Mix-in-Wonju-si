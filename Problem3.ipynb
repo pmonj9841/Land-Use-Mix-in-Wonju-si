{
  "nbformat": 4,
  "nbformat_minor": 0,
  "metadata": {
    "colab": {
      "provenance": [],
      "authorship_tag": "ABX9TyO0G5Q2wTrAh3Lr56JycI4a",
      "include_colab_link": true
    },
    "kernelspec": {
      "name": "python3",
      "display_name": "Python 3"
    },
    "language_info": {
      "name": "python"
    }
  },
  "cells": [
    {
      "cell_type": "markdown",
      "metadata": {
        "id": "view-in-github",
        "colab_type": "text"
      },
      "source": [
        "<a href=\"https://colab.research.google.com/github/pmonj9841/Land-Use-Mix-in-Wonju-si/blob/main/Problem3.ipynb\" target=\"_parent\"><img src=\"https://colab.research.google.com/assets/colab-badge.svg\" alt=\"Open In Colab\"/></a>"
      ]
    },
    {
      "cell_type": "code",
      "execution_count": null,
      "metadata": {
        "id": "WKyHipjmVPH-"
      },
      "outputs": [],
      "source": [
        "# import Counter\n",
        "from collections import Counter\n",
        "\n",
        "# 함수 생성\n",
        "def count_unique(input_list):\n",
        "    # Counter 사용하여 아이템을 key로 카운트를 value로 반환\n",
        "    counts = Counter(input_list)\n",
        "    # sorted을 사용하여 value를 기준으로 내림차순 정렬\n",
        "    sorted_counts = sorted(counts.items(), key=lambda x: x[1], reverse=True)\n",
        "    # 튜플 sorted_counts를 딕셔너리로 변환\n",
        "    result = [{\"number\": num, \"count\": count} for num, count in sorted_counts]\n",
        "    return result\n",
        "\n",
        "# Example usage\n",
        "input_list = [1, 2, 2, 3, 3, 3, 4, 4, 4, 4]\n",
        "output = count_unique(input_list)\n",
        "\n",
        "for entry in output:\n",
        "    print(f\"Number: {entry['number']}, Count: {entry['count']}\")\n"
      ]
    }
  ]
}