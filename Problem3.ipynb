{
  "nbformat": 4,
  "nbformat_minor": 0,
  "metadata": {
    "colab": {
      "provenance": [],
      "authorship_tag": "ABX9TyOUFL9NgVn83GnXg6mqp2Kj",
      "include_colab_link": true
    },
    "kernelspec": {
      "name": "python3",
      "display_name": "Python 3"
    },
    "language_info": {
      "name": "python"
    }
  },
  "cells": [
    {
      "cell_type": "markdown",
      "metadata": {
        "id": "view-in-github",
        "colab_type": "text"
      },
      "source": [
        "<a href=\"https://colab.research.google.com/github/pmonj9841/Land-Use-Mix-in-Wonju-si/blob/main/Problem3.ipynb\" target=\"_parent\"><img src=\"https://colab.research.google.com/assets/colab-badge.svg\" alt=\"Open In Colab\"/></a>"
      ]
    },
    {
      "cell_type": "code",
      "source": [
        "# import Counter\n",
        "from collections import Counter\n",
        "\n",
        "# 함수 생성\n",
        "def count_unique(input_list):\n",
        "    # Counter 사용하여 아이템을 key로 카운트를 value로 반환\n",
        "    counts = Counter(input_list)\n",
        "    # sorted을 사용하여 value를 기준으로 내림차순 정렬\n",
        "    sorted_counts = sorted(counts.items(), key=lambda x: (x[1], x[0]), reverse=True)\n",
        "    # 튜플 sorted_counts를 딕셔너리로 변환\n",
        "    result = [(num, count) for num, count in sorted_counts]\n",
        "    return result\n",
        "\n",
        "# Example usage\n",
        "nums = [\n",
        "    5, 2, 4, 3, 9, 0, 4, 1, 3, 5,\n",
        "    6, 8, 4, 2, 7, 6, 0, 9, 3, 5,\n",
        "    2, 1, 4, 7, 8, 2, 9, 3, 5, 0,\n",
        "    1, 1, 6, 5, 4, 4, 3, 9, 2, 2,\n",
        "    8, 7, 0, 6, 5, 5, 3, 4, 1, 2,\n",
        "    0, 0, 9, 9, 6, 3, 2, 4, 7, 8,\n",
        "    5, 1, 1, 0, 0, 6, 8, 9, 2, 3,\n",
        "    5, 7, 4, 0, 1, 2, 8, 5, 6, 3,\n",
        "    9, 0, 4, 2, 3, 1, 7, 6, 5, 4,\n",
        "    8, 9, 0, 2, 1, 3, 5, 4, 6, 7\n",
        "]\n",
        "\n",
        "output = count_unique(nums)\n",
        "print(output)\n",
        "print(f\"PASSCORD = {output[0][0]} + {output[0][1]} = {output[0][0] + output[0][1]}\")"
      ],
      "metadata": {
        "id": "VcSYI9-3oxlL",
        "colab": {
          "base_uri": "https://localhost:8080/"
        },
        "outputId": "ee43b39c-7699-4b21-943b-bd801f86a1de"
      },
      "execution_count": 14,
      "outputs": [
        {
          "output_type": "stream",
          "name": "stdout",
          "text": [
            "[(5, 12), (4, 12), (2, 12), (3, 11), (0, 11), (1, 10), (9, 9), (6, 9), (8, 7), (7, 7)]\n",
            "PASSCORD = 5 + 12 = 17\n"
          ]
        }
      ]
    },
    {
      "cell_type": "code",
      "source": [
        "\n"
      ],
      "metadata": {
        "colab": {
          "base_uri": "https://localhost:8080/"
        },
        "id": "-FCUFW8ax-xj",
        "outputId": "2ff2d61d-c55a-461c-cdb2-68d66a3da03f"
      },
      "execution_count": null,
      "outputs": [
        {
          "output_type": "stream",
          "name": "stdout",
          "text": [
            "==============================\n",
            "데이터 전처리 결과\n",
            "==============================\n",
            "원본 데이터:\n",
            "7건\n",
            "중복 제거 후:\n",
            "4건\n",
            "시간순 정렬 결과:\n",
            "- 2023-08-09 | 이영희 | 95점\n",
            "- 2023-10-10 | 강다현 | 85점\n",
            "- 2023-10-21 | 김철수 | 75점\n",
            "- 2023-11-15 | 홍길동 | 85점\n",
            "가장 오래된 항목:\n",
            "이영희 (2023-08-09)\n"
          ]
        },
        {
          "output_type": "execute_result",
          "data": {
            "text/plain": [
              "[{'name': '이영희', 'date': '2023-08-09', 'score': 95},\n",
              " {'name': '강다현', 'date': '2023-10-10', 'score': 85},\n",
              " {'name': '김철수', 'date': '2023-10-21', 'score': 75},\n",
              " {'name': '홍길동', 'date': '2023-11-15', 'score': 85}]"
            ]
          },
          "metadata": {},
          "execution_count": 9
        }
      ]
    },
    {
      "cell_type": "code",
      "source": [],
      "metadata": {
        "id": "swzxIHvhyA7X"
      },
      "execution_count": null,
      "outputs": []
    }
  ]
}